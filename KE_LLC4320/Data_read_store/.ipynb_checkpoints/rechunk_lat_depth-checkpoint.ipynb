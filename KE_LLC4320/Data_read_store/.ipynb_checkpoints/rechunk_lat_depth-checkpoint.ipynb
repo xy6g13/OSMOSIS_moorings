{
 "cells": [
  {
   "cell_type": "code",
   "execution_count": 1,
   "metadata": {},
   "outputs": [],
   "source": [
    "import os\n",
    "from glob import glob\n",
    "import dask\n",
    "import xarray as xr\n",
    "import cartopy.crs as ccrs\n",
    "from cmocean import cm\n",
    "import numpy as np\n",
    "#from netCDF4 import Dataset\n",
    "from scipy.io import loadmat\n",
    "\n",
    "from matplotlib import pyplot as plt\n",
    "%matplotlib inline\n",
    "\n",
    "from mitequinox.utils import *"
   ]
  },
  {
   "cell_type": "code",
   "execution_count": 2,
   "metadata": {},
   "outputs": [],
   "source": [
    "from dask_jobqueue import PBSCluster\n",
    "cluster = PBSCluster()\n",
    "#print(cluster.job_script())\n",
    "#print(cluster.job_header)\n",
    "w = cluster.scale(24)"
   ]
  },
  {
   "cell_type": "code",
   "execution_count": 4,
   "metadata": {},
   "outputs": [],
   "source": [
    "# get dask handles and check dask server status\n",
    "from dask.distributed import Client\n",
    "client = Client(cluster)"
   ]
  },
  {
   "cell_type": "code",
   "execution_count": 5,
   "metadata": {},
   "outputs": [
    {
     "data": {
      "text/html": [
       "<table style=\"border: 2px solid white;\">\n",
       "<tr>\n",
       "<td style=\"vertical-align: top; border: 0px solid white\">\n",
       "<h3 style=\"text-align: left;\">Client</h3>\n",
       "<ul style=\"text-align: left; list-style: none; margin: 0; padding: 0;\">\n",
       "  <li><b>Scheduler: </b>tcp://10.148.0.236:33082</li>\n",
       "  <li><b>Dashboard: </b><a href='http://10.148.0.236:8787/status' target='_blank'>http://10.148.0.236:8787/status</a></li>\n",
       "</ul>\n",
       "</td>\n",
       "<td style=\"vertical-align: top; border: 0px solid white\">\n",
       "<h3 style=\"text-align: left;\">Cluster</h3>\n",
       "<ul style=\"text-align: left; list-style:none; margin: 0; padding: 0;\">\n",
       "  <li><b>Workers: </b>21</li>\n",
       "  <li><b>Cores: </b>21</li>\n",
       "  <li><b>Memory: </b>335.37 GiB</li>\n",
       "</ul>\n",
       "</td>\n",
       "</tr>\n",
       "</table>"
      ],
      "text/plain": [
       "<Client: 'tcp://10.148.0.236:33082' processes=21 threads=21, memory=335.37 GiB>"
      ]
     },
     "execution_count": 5,
     "metadata": {},
     "output_type": "execute_result"
    }
   ],
   "source": [
    "client"
   ]
  },
  {
   "cell_type": "markdown",
   "metadata": {},
   "source": [
    "# Read rechunked data"
   ]
  },
  {
   "cell_type": "code",
   "execution_count": 6,
   "metadata": {},
   "outputs": [],
   "source": [
    "# the path where (Zach's) LLC4320 data are already stored\n",
    "LLC_data_folder = '/home1/datawork/xyu/OSMOSIS_llc4320/data_rechunk/'\n",
    "# the path where the data will be re-stored\n",
    "out_dir_zarr = '/home/c11-data/Test_aponte/xiaolong/Parameter/data_rechunk/'"
   ]
  },
  {
   "cell_type": "markdown",
   "metadata": {},
   "source": [
    "# rechunk data"
   ]
  },
  {
   "cell_type": "code",
   "execution_count": 7,
   "metadata": {},
   "outputs": [
    {
     "name": "stdout",
     "output_type": "stream",
     "text": [
      "<xarray.Dataset>\n",
      "Dimensions:  (depth: 52, lat: 201, lon_g: 177, time: 9415)\n",
      "Coordinates:\n",
      "  * depth    (depth) float64 0.5 1.57 2.79 4.185 ... 855.8 900.1 945.6 992.3\n",
      "  * time     (time) float64 0.0 0.04167 0.08333 0.125 ... 392.2 392.2 392.2\n",
      "Dimensions without coordinates: lat, lon_g\n",
      "Data variables:\n",
      "    U        (time, depth, lat, lon_g) float32 dask.array<chunksize=(9415, 1, 1, 177), meta=np.ndarray>\n",
      "<xarray.Dataset>\n",
      "Dimensions:  (depth: 52, lat: 201, lon_g: 177, time: 9415)\n",
      "Coordinates:\n",
      "  * depth    (depth) float64 0.5 1.57 2.79 4.185 ... 855.8 900.1 945.6 992.3\n",
      "  * time     (time) float64 0.0 0.04167 0.08333 0.125 ... 392.2 392.2 392.2\n",
      "Dimensions without coordinates: lat, lon_g\n",
      "Data variables:\n",
      "    U        (time, depth, lat, lon_g) float32 dask.array<chunksize=(9415, 1, 1, 177), meta=np.ndarray>\n",
      "CPU times: user 42 s, sys: 1.4 s, total: 43.4 s\n",
      "Wall time: 2min 2s\n"
     ]
    },
    {
     "data": {
      "text/plain": [
       "<xarray.backends.zarr.ZarrStore at 0x2aabc8dbefa0>"
      ]
     },
     "execution_count": 7,
     "metadata": {},
     "output_type": "execute_result"
    }
   ],
   "source": [
    "# variable \n",
    "v = 'U'\n",
    "\n",
    "ds = xr.open_zarr(LLC_data_folder+v+'_total_rechunk.zarr')\n",
    "print(ds)\n",
    "chunks = {'time': 9415, 'lat': 1, 'lon_g': 177, 'depth':1}\n",
    "ds = ds.chunk(chunks)\n",
    "del ds[v].encoding['chunks']\n",
    "print(ds)\n",
    "file_out = out_dir_zarr+'/%s_total_rechunk.zarr'%(v)\n",
    "%time ds.to_zarr(file_out, mode='w') "
   ]
  },
  {
   "cell_type": "code",
   "execution_count": 8,
   "metadata": {},
   "outputs": [
    {
     "name": "stdout",
     "output_type": "stream",
     "text": [
      "<xarray.Dataset>\n",
      "Dimensions:  (depth: 52, lat_g: 201, lon: 177, time: 9415)\n",
      "Coordinates:\n",
      "  * depth    (depth) float64 0.5 1.57 2.79 4.185 ... 855.8 900.1 945.6 992.3\n",
      "  * time     (time) float64 0.0 0.04167 0.08333 0.125 ... 392.2 392.2 392.2\n",
      "Dimensions without coordinates: lat_g, lon\n",
      "Data variables:\n",
      "    V        (time, depth, lat_g, lon) float32 dask.array<chunksize=(9415, 1, 1, 177), meta=np.ndarray>\n",
      "CPU times: user 35.4 s, sys: 1.58 s, total: 37 s\n",
      "Wall time: 1min 31s\n"
     ]
    },
    {
     "data": {
      "text/plain": [
       "<xarray.backends.zarr.ZarrStore at 0x2aabc8d25760>"
      ]
     },
     "execution_count": 8,
     "metadata": {},
     "output_type": "execute_result"
    }
   ],
   "source": [
    "v = 'V'\n",
    "\n",
    "ds = xr.open_zarr(LLC_data_folder+v+'_total_rechunk.zarr')\n",
    "chunks = {'time': 9415, 'lat_g': 1, 'lon': 177, 'depth':1}\n",
    "ds = ds.chunk(chunks)\n",
    "del ds[v].encoding['chunks']\n",
    "print(ds)\n",
    "file_out = out_dir_zarr+'/%s_total_rechunk.zarr'%(v)\n",
    "%time ds.to_zarr(file_out, mode='w') "
   ]
  },
  {
   "cell_type": "code",
   "execution_count": 9,
   "metadata": {},
   "outputs": [
    {
     "name": "stdout",
     "output_type": "stream",
     "text": [
      "<xarray.Dataset>\n",
      "Dimensions:  (depth: 52, lat: 201, lon: 177, time: 9415)\n",
      "Coordinates:\n",
      "  * depth    (depth) float64 0.5 1.57 2.79 4.185 ... 855.8 900.1 945.6 992.3\n",
      "  * time     (time) float64 0.0 0.04167 0.08333 0.125 ... 392.2 392.2 392.2\n",
      "Dimensions without coordinates: lat, lon\n",
      "Data variables:\n",
      "    W        (time, depth, lat, lon) float32 dask.array<chunksize=(9415, 1, 1, 177), meta=np.ndarray>\n",
      "CPU times: user 30.5 s, sys: 1.42 s, total: 31.9 s\n",
      "Wall time: 1min 30s\n"
     ]
    },
    {
     "data": {
      "text/plain": [
       "<xarray.backends.zarr.ZarrStore at 0x2aabc8dbee20>"
      ]
     },
     "execution_count": 9,
     "metadata": {},
     "output_type": "execute_result"
    }
   ],
   "source": [
    "v = 'W'\n",
    "\n",
    "ds = xr.open_zarr(LLC_data_folder+v+'_total_rechunk.zarr')\n",
    "chunks = {'time': 9415, 'lat': 1, 'lon': 177, 'depth':1}\n",
    "ds = ds.chunk(chunks)\n",
    "del ds[v].encoding['chunks']\n",
    "print(ds)\n",
    "file_out = out_dir_zarr+'/%s_total_rechunk.zarr'%(v)\n",
    "%time ds.to_zarr(file_out, mode='w') "
   ]
  },
  {
   "cell_type": "code",
   "execution_count": 12,
   "metadata": {},
   "outputs": [
    {
     "name": "stdout",
     "output_type": "stream",
     "text": [
      "<xarray.Dataset>\n",
      "Dimensions:  (depth: 52, lat: 201, lon: 177, time: 9415)\n",
      "Coordinates:\n",
      "  * depth    (depth) float64 0.5 1.57 2.79 4.185 ... 855.8 900.1 945.6 992.3\n",
      "  * time     (time) float64 0.0 0.04167 0.08333 0.125 ... 392.2 392.2 392.2\n",
      "Dimensions without coordinates: lat, lon\n",
      "Data variables:\n",
      "    Buoy     (time, depth, lat, lon) float32 dask.array<chunksize=(9415, 1, 1, 177), meta=np.ndarray>\n",
      "<xarray.Dataset>\n",
      "Dimensions:  (depth: 52, lat: 201, lon: 177, time: 9415)\n",
      "Coordinates:\n",
      "  * depth    (depth) float64 0.5 1.57 2.79 4.185 ... 855.8 900.1 945.6 992.3\n",
      "  * time     (time) float64 0.0 0.04167 0.08333 0.125 ... 392.2 392.2 392.2\n",
      "Dimensions without coordinates: lat, lon\n",
      "Data variables:\n",
      "    Buoy     (time, depth, lat, lon) float32 dask.array<chunksize=(9415, 1, 1, 177), meta=np.ndarray>\n",
      "CPU times: user 43.1 s, sys: 1.86 s, total: 44.9 s\n",
      "Wall time: 1min 18s\n"
     ]
    },
    {
     "data": {
      "text/plain": [
       "<xarray.backends.zarr.ZarrStore at 0x2aabd819be80>"
      ]
     },
     "execution_count": 12,
     "metadata": {},
     "output_type": "execute_result"
    }
   ],
   "source": [
    "v = 'Buoy'\n",
    "\n",
    "ds = xr.open_zarr(LLC_data_folder+'Buoy_total_rechunk.zarr')\n",
    "chunks = {'time': 9415, 'lat': 1, 'lon': 177, 'depth':1}\n",
    "ds = ds.chunk(chunks)\n",
    "#del ds[v].encoding['chunks']\n",
    "print(ds)\n",
    "file_out = out_dir_zarr+'/%s_total_rechunk.zarr'%(v)\n",
    "%time ds.to_zarr(file_out, mode='w') "
   ]
  },
  {
   "cell_type": "code",
   "execution_count": null,
   "metadata": {},
   "outputs": [],
   "source": []
  },
  {
   "cell_type": "code",
   "execution_count": null,
   "metadata": {},
   "outputs": [],
   "source": []
  },
  {
   "cell_type": "code",
   "execution_count": null,
   "metadata": {},
   "outputs": [],
   "source": []
  },
  {
   "cell_type": "code",
   "execution_count": null,
   "metadata": {},
   "outputs": [],
   "source": []
  },
  {
   "cell_type": "code",
   "execution_count": null,
   "metadata": {},
   "outputs": [],
   "source": []
  },
  {
   "cell_type": "code",
   "execution_count": null,
   "metadata": {},
   "outputs": [],
   "source": []
  },
  {
   "cell_type": "code",
   "execution_count": null,
   "metadata": {},
   "outputs": [],
   "source": []
  },
  {
   "cell_type": "code",
   "execution_count": 15,
   "metadata": {},
   "outputs": [],
   "source": [
    "cluster.close()"
   ]
  },
  {
   "cell_type": "code",
   "execution_count": null,
   "metadata": {},
   "outputs": [],
   "source": []
  }
 ],
 "metadata": {
  "kernelspec": {
   "display_name": "Python 3 (ipykernel)",
   "language": "python",
   "name": "python3"
  },
  "language_info": {
   "codemirror_mode": {
    "name": "ipython",
    "version": 3
   },
   "file_extension": ".py",
   "mimetype": "text/x-python",
   "name": "python",
   "nbconvert_exporter": "python",
   "pygments_lexer": "ipython3",
   "version": "3.8.8"
  }
 },
 "nbformat": 4,
 "nbformat_minor": 4
}
